{
 "cells": [
  {
   "cell_type": "markdown",
   "metadata": {},
   "source": [
    "# Practical Application III: Comparing Classifiers\n",
    "\n",
    "**Overview**: In this practical application, your goal is to compare the performance of the classifiers we encountered in this section, namely K Nearest Neighbor, Logistic Regression, Decision Trees, and Support Vector Machines.  We will utilize a dataset related to marketing bank products over the telephone.  \n",
    "\n"
   ]
  },
  {
   "cell_type": "markdown",
   "metadata": {},
   "source": [
    "### Getting Started\n",
    "\n",
    "Our dataset comes from the UCI Machine Learning repository [link](https://archive.ics.uci.edu/ml/datasets/bank+marketing).  The data is from a Portugese banking institution and is a collection of the results of multiple marketing campaigns.  We will make use of the article accompanying the dataset [here](CRISP-DM-BANK.pdf) for more information on the data and features.\n",
    "\n"
   ]
  },
  {
   "cell_type": "markdown",
   "metadata": {},
   "source": [
    "### Problem 1: Understanding the Data\n",
    "\n",
    "To gain a better understanding of the data, please read the information provided in the UCI link above, and examine the **Materials and Methods** section of the paper.  How many marketing campaigns does this data represent?"
   ]
  },
  {
   "cell_type": "code",
   "execution_count": 1,
   "metadata": {},
   "outputs": [],
   "source": [
    "#The data represents 17 marketing campaigns"
   ]
  },
  {
   "cell_type": "markdown",
   "metadata": {},
   "source": [
    "### Problem 2: Read in the Data\n",
    "\n",
    "Use pandas to read in the dataset `bank-additional-full.csv` and assign to a meaningful variable name."
   ]
  },
  {
   "cell_type": "code",
   "execution_count": 2,
   "metadata": {},
   "outputs": [],
   "source": [
    "import pandas as pd"
   ]
  },
  {
   "cell_type": "code",
   "execution_count": 3,
   "metadata": {},
   "outputs": [],
   "source": [
    "df = pd.read_csv('data/bank-additional-full.csv', sep = ';')"
   ]
  },
  {
   "cell_type": "code",
   "execution_count": 4,
   "metadata": {},
   "outputs": [
    {
     "data": {
      "text/html": [
       "<div>\n",
       "<style scoped>\n",
       "    .dataframe tbody tr th:only-of-type {\n",
       "        vertical-align: middle;\n",
       "    }\n",
       "\n",
       "    .dataframe tbody tr th {\n",
       "        vertical-align: top;\n",
       "    }\n",
       "\n",
       "    .dataframe thead th {\n",
       "        text-align: right;\n",
       "    }\n",
       "</style>\n",
       "<table border=\"1\" class=\"dataframe\">\n",
       "  <thead>\n",
       "    <tr style=\"text-align: right;\">\n",
       "      <th></th>\n",
       "      <th>age</th>\n",
       "      <th>job</th>\n",
       "      <th>marital</th>\n",
       "      <th>education</th>\n",
       "      <th>default</th>\n",
       "      <th>housing</th>\n",
       "      <th>loan</th>\n",
       "      <th>contact</th>\n",
       "      <th>month</th>\n",
       "      <th>day_of_week</th>\n",
       "      <th>...</th>\n",
       "      <th>campaign</th>\n",
       "      <th>pdays</th>\n",
       "      <th>previous</th>\n",
       "      <th>poutcome</th>\n",
       "      <th>emp.var.rate</th>\n",
       "      <th>cons.price.idx</th>\n",
       "      <th>cons.conf.idx</th>\n",
       "      <th>euribor3m</th>\n",
       "      <th>nr.employed</th>\n",
       "      <th>y</th>\n",
       "    </tr>\n",
       "  </thead>\n",
       "  <tbody>\n",
       "    <tr>\n",
       "      <th>0</th>\n",
       "      <td>56</td>\n",
       "      <td>housemaid</td>\n",
       "      <td>married</td>\n",
       "      <td>basic.4y</td>\n",
       "      <td>no</td>\n",
       "      <td>no</td>\n",
       "      <td>no</td>\n",
       "      <td>telephone</td>\n",
       "      <td>may</td>\n",
       "      <td>mon</td>\n",
       "      <td>...</td>\n",
       "      <td>1</td>\n",
       "      <td>999</td>\n",
       "      <td>0</td>\n",
       "      <td>nonexistent</td>\n",
       "      <td>1.1</td>\n",
       "      <td>93.994</td>\n",
       "      <td>-36.4</td>\n",
       "      <td>4.857</td>\n",
       "      <td>5191.0</td>\n",
       "      <td>no</td>\n",
       "    </tr>\n",
       "    <tr>\n",
       "      <th>1</th>\n",
       "      <td>57</td>\n",
       "      <td>services</td>\n",
       "      <td>married</td>\n",
       "      <td>high.school</td>\n",
       "      <td>unknown</td>\n",
       "      <td>no</td>\n",
       "      <td>no</td>\n",
       "      <td>telephone</td>\n",
       "      <td>may</td>\n",
       "      <td>mon</td>\n",
       "      <td>...</td>\n",
       "      <td>1</td>\n",
       "      <td>999</td>\n",
       "      <td>0</td>\n",
       "      <td>nonexistent</td>\n",
       "      <td>1.1</td>\n",
       "      <td>93.994</td>\n",
       "      <td>-36.4</td>\n",
       "      <td>4.857</td>\n",
       "      <td>5191.0</td>\n",
       "      <td>no</td>\n",
       "    </tr>\n",
       "    <tr>\n",
       "      <th>2</th>\n",
       "      <td>37</td>\n",
       "      <td>services</td>\n",
       "      <td>married</td>\n",
       "      <td>high.school</td>\n",
       "      <td>no</td>\n",
       "      <td>yes</td>\n",
       "      <td>no</td>\n",
       "      <td>telephone</td>\n",
       "      <td>may</td>\n",
       "      <td>mon</td>\n",
       "      <td>...</td>\n",
       "      <td>1</td>\n",
       "      <td>999</td>\n",
       "      <td>0</td>\n",
       "      <td>nonexistent</td>\n",
       "      <td>1.1</td>\n",
       "      <td>93.994</td>\n",
       "      <td>-36.4</td>\n",
       "      <td>4.857</td>\n",
       "      <td>5191.0</td>\n",
       "      <td>no</td>\n",
       "    </tr>\n",
       "    <tr>\n",
       "      <th>3</th>\n",
       "      <td>40</td>\n",
       "      <td>admin.</td>\n",
       "      <td>married</td>\n",
       "      <td>basic.6y</td>\n",
       "      <td>no</td>\n",
       "      <td>no</td>\n",
       "      <td>no</td>\n",
       "      <td>telephone</td>\n",
       "      <td>may</td>\n",
       "      <td>mon</td>\n",
       "      <td>...</td>\n",
       "      <td>1</td>\n",
       "      <td>999</td>\n",
       "      <td>0</td>\n",
       "      <td>nonexistent</td>\n",
       "      <td>1.1</td>\n",
       "      <td>93.994</td>\n",
       "      <td>-36.4</td>\n",
       "      <td>4.857</td>\n",
       "      <td>5191.0</td>\n",
       "      <td>no</td>\n",
       "    </tr>\n",
       "    <tr>\n",
       "      <th>4</th>\n",
       "      <td>56</td>\n",
       "      <td>services</td>\n",
       "      <td>married</td>\n",
       "      <td>high.school</td>\n",
       "      <td>no</td>\n",
       "      <td>no</td>\n",
       "      <td>yes</td>\n",
       "      <td>telephone</td>\n",
       "      <td>may</td>\n",
       "      <td>mon</td>\n",
       "      <td>...</td>\n",
       "      <td>1</td>\n",
       "      <td>999</td>\n",
       "      <td>0</td>\n",
       "      <td>nonexistent</td>\n",
       "      <td>1.1</td>\n",
       "      <td>93.994</td>\n",
       "      <td>-36.4</td>\n",
       "      <td>4.857</td>\n",
       "      <td>5191.0</td>\n",
       "      <td>no</td>\n",
       "    </tr>\n",
       "  </tbody>\n",
       "</table>\n",
       "<p>5 rows × 21 columns</p>\n",
       "</div>"
      ],
      "text/plain": [
       "   age        job  marital    education  default housing loan    contact  \\\n",
       "0   56  housemaid  married     basic.4y       no      no   no  telephone   \n",
       "1   57   services  married  high.school  unknown      no   no  telephone   \n",
       "2   37   services  married  high.school       no     yes   no  telephone   \n",
       "3   40     admin.  married     basic.6y       no      no   no  telephone   \n",
       "4   56   services  married  high.school       no      no  yes  telephone   \n",
       "\n",
       "  month day_of_week  ...  campaign  pdays  previous     poutcome emp.var.rate  \\\n",
       "0   may         mon  ...         1    999         0  nonexistent          1.1   \n",
       "1   may         mon  ...         1    999         0  nonexistent          1.1   \n",
       "2   may         mon  ...         1    999         0  nonexistent          1.1   \n",
       "3   may         mon  ...         1    999         0  nonexistent          1.1   \n",
       "4   may         mon  ...         1    999         0  nonexistent          1.1   \n",
       "\n",
       "   cons.price.idx  cons.conf.idx  euribor3m  nr.employed   y  \n",
       "0          93.994          -36.4      4.857       5191.0  no  \n",
       "1          93.994          -36.4      4.857       5191.0  no  \n",
       "2          93.994          -36.4      4.857       5191.0  no  \n",
       "3          93.994          -36.4      4.857       5191.0  no  \n",
       "4          93.994          -36.4      4.857       5191.0  no  \n",
       "\n",
       "[5 rows x 21 columns]"
      ]
     },
     "execution_count": 4,
     "metadata": {},
     "output_type": "execute_result"
    }
   ],
   "source": [
    "df.head()"
   ]
  },
  {
   "cell_type": "markdown",
   "metadata": {},
   "source": [
    "### Problem 3: Understanding the Features\n",
    "\n",
    "\n",
    "Examine the data description below, and determine if any of the features are missing values or need to be coerced to a different data type.\n",
    "\n",
    "\n",
    "```\n",
    "Input variables:\n",
    "# bank client data:\n",
    "1 - age (numeric)\n",
    "2 - job : type of job (categorical: 'admin.','blue-collar','entrepreneur','housemaid','management','retired','self-employed','services','student','technician','unemployed','unknown')\n",
    "3 - marital : marital status (categorical: 'divorced','married','single','unknown'; note: 'divorced' means divorced or widowed)\n",
    "4 - education (categorical: 'basic.4y','basic.6y','basic.9y','high.school','illiterate','professional.course','university.degree','unknown')\n",
    "5 - default: has credit in default? (categorical: 'no','yes','unknown')\n",
    "6 - housing: has housing loan? (categorical: 'no','yes','unknown')\n",
    "7 - loan: has personal loan? (categorical: 'no','yes','unknown')\n",
    "# related with the last contact of the current campaign:\n",
    "8 - contact: contact communication type (categorical: 'cellular','telephone')\n",
    "9 - month: last contact month of year (categorical: 'jan', 'feb', 'mar', ..., 'nov', 'dec')\n",
    "10 - day_of_week: last contact day of the week (categorical: 'mon','tue','wed','thu','fri')\n",
    "11 - duration: last contact duration, in seconds (numeric). Important note: this attribute highly affects the output target (e.g., if duration=0 then y='no'). Yet, the duration is not known before a call is performed. Also, after the end of the call y is obviously known. Thus, this input should only be included for benchmark purposes and should be discarded if the intention is to have a realistic predictive model.\n",
    "# other attributes:\n",
    "12 - campaign: number of contacts performed during this campaign and for this client (numeric, includes last contact)\n",
    "13 - pdays: number of days that passed by after the client was last contacted from a previous campaign (numeric; 999 means client was not previously contacted)\n",
    "14 - previous: number of contacts performed before this campaign and for this client (numeric)\n",
    "15 - poutcome: outcome of the previous marketing campaign (categorical: 'failure','nonexistent','success')\n",
    "# social and economic context attributes\n",
    "16 - emp.var.rate: employment variation rate - quarterly indicator (numeric)\n",
    "17 - cons.price.idx: consumer price index - monthly indicator (numeric)\n",
    "18 - cons.conf.idx: consumer confidence index - monthly indicator (numeric)\n",
    "19 - euribor3m: euribor 3 month rate - daily indicator (numeric)\n",
    "20 - nr.employed: number of employees - quarterly indicator (numeric)\n",
    "\n",
    "Output variable (desired target):\n",
    "21 - y - has the client subscribed a term deposit? (binary: 'yes','no')\n",
    "```\n",
    "\n"
   ]
  },
  {
   "cell_type": "code",
   "execution_count": 5,
   "metadata": {},
   "outputs": [
    {
     "data": {
      "text/plain": [
       "age               0\n",
       "job               0\n",
       "marital           0\n",
       "education         0\n",
       "default           0\n",
       "housing           0\n",
       "loan              0\n",
       "contact           0\n",
       "month             0\n",
       "day_of_week       0\n",
       "duration          0\n",
       "campaign          0\n",
       "pdays             0\n",
       "previous          0\n",
       "poutcome          0\n",
       "emp.var.rate      0\n",
       "cons.price.idx    0\n",
       "cons.conf.idx     0\n",
       "euribor3m         0\n",
       "nr.employed       0\n",
       "y                 0\n",
       "dtype: int64"
      ]
     },
     "execution_count": 5,
     "metadata": {},
     "output_type": "execute_result"
    }
   ],
   "source": [
    "df.isnull().sum()"
   ]
  },
  {
   "cell_type": "markdown",
   "metadata": {},
   "source": [
    "### Problem 4: Understanding the Task\n",
    "\n",
    "After examining the description and data, your goal now is to clearly state the *Business Objective* of the task.  State the objective below."
   ]
  },
  {
   "cell_type": "code",
   "execution_count": 6,
   "metadata": {},
   "outputs": [
    {
     "name": "stdout",
     "output_type": "stream",
     "text": [
      "<class 'pandas.core.frame.DataFrame'>\n",
      "RangeIndex: 41188 entries, 0 to 41187\n",
      "Data columns (total 21 columns):\n",
      " #   Column          Non-Null Count  Dtype  \n",
      "---  ------          --------------  -----  \n",
      " 0   age             41188 non-null  int64  \n",
      " 1   job             41188 non-null  object \n",
      " 2   marital         41188 non-null  object \n",
      " 3   education       41188 non-null  object \n",
      " 4   default         41188 non-null  object \n",
      " 5   housing         41188 non-null  object \n",
      " 6   loan            41188 non-null  object \n",
      " 7   contact         41188 non-null  object \n",
      " 8   month           41188 non-null  object \n",
      " 9   day_of_week     41188 non-null  object \n",
      " 10  duration        41188 non-null  int64  \n",
      " 11  campaign        41188 non-null  int64  \n",
      " 12  pdays           41188 non-null  int64  \n",
      " 13  previous        41188 non-null  int64  \n",
      " 14  poutcome        41188 non-null  object \n",
      " 15  emp.var.rate    41188 non-null  float64\n",
      " 16  cons.price.idx  41188 non-null  float64\n",
      " 17  cons.conf.idx   41188 non-null  float64\n",
      " 18  euribor3m       41188 non-null  float64\n",
      " 19  nr.employed     41188 non-null  float64\n",
      " 20  y               41188 non-null  object \n",
      "dtypes: float64(5), int64(5), object(11)\n",
      "memory usage: 6.6+ MB\n"
     ]
    }
   ],
   "source": [
    "df.info()"
   ]
  },
  {
   "cell_type": "code",
   "execution_count": 7,
   "metadata": {},
   "outputs": [],
   "source": [
    "#The objective is to determine which features are the most important in determining whether a client chooses so subscribe or not"
   ]
  },
  {
   "cell_type": "markdown",
   "metadata": {},
   "source": [
    "### Problem 5: Engineering Features\n",
    "\n",
    "Now that you understand your business objective, we will build a basic model to get started.  Before we can do this, we must work to encode the data.  Using just the bank information features, prepare the features and target column for modeling with appropriate encoding and transformations."
   ]
  },
  {
   "cell_type": "code",
   "execution_count": 8,
   "metadata": {},
   "outputs": [],
   "source": [
    "import pandas as pd\n",
    "import time\n",
    "from sklearn.model_selection import train_test_split, GridSearchCV, RandomizedSearchCV\n",
    "from sklearn.svm import SVC\n",
    "from sklearn.linear_model import LogisticRegression\n",
    "from sklearn.neighbors import KNeighborsClassifier\n",
    "from sklearn.preprocessing import StandardScaler, PolynomialFeatures, OneHotEncoder\n",
    "from sklearn.pipeline import Pipeline\n",
    "from sklearn.metrics.pairwise import polynomial_kernel, rbf_kernel\n",
    "import matplotlib.pyplot as plt\n",
    "import seaborn as sns\n",
    "from sklearn.tree import DecisionTreeClassifier\n",
    "from sklearn.metrics import accuracy_score, recall_score, precision_score\n",
    "from sklearn.feature_selection import SequentialFeatureSelector, RFE, RFECV\n",
    "from sklearn.ensemble import RandomForestClassifier\n",
    "from sklearn.compose import ColumnTransformer"
   ]
  },
  {
   "cell_type": "code",
   "execution_count": 9,
   "metadata": {},
   "outputs": [
    {
     "name": "stdout",
     "output_type": "stream",
     "text": [
      "<class 'pandas.core.frame.DataFrame'>\n",
      "RangeIndex: 41188 entries, 0 to 41187\n",
      "Data columns (total 21 columns):\n",
      " #   Column          Non-Null Count  Dtype  \n",
      "---  ------          --------------  -----  \n",
      " 0   age             41188 non-null  int64  \n",
      " 1   job             41188 non-null  object \n",
      " 2   marital         41188 non-null  object \n",
      " 3   education       41188 non-null  object \n",
      " 4   default         41188 non-null  object \n",
      " 5   housing         41188 non-null  object \n",
      " 6   loan            41188 non-null  object \n",
      " 7   contact         41188 non-null  object \n",
      " 8   month           41188 non-null  object \n",
      " 9   day_of_week     41188 non-null  object \n",
      " 10  duration        41188 non-null  int64  \n",
      " 11  campaign        41188 non-null  int64  \n",
      " 12  pdays           41188 non-null  int64  \n",
      " 13  previous        41188 non-null  int64  \n",
      " 14  poutcome        41188 non-null  object \n",
      " 15  emp.var.rate    41188 non-null  float64\n",
      " 16  cons.price.idx  41188 non-null  float64\n",
      " 17  cons.conf.idx   41188 non-null  float64\n",
      " 18  euribor3m       41188 non-null  float64\n",
      " 19  nr.employed     41188 non-null  float64\n",
      " 20  y               41188 non-null  object \n",
      "dtypes: float64(5), int64(5), object(11)\n",
      "memory usage: 6.6+ MB\n"
     ]
    }
   ],
   "source": [
    "df.info()"
   ]
  },
  {
   "cell_type": "code",
   "execution_count": 10,
   "metadata": {},
   "outputs": [
    {
     "name": "stdout",
     "output_type": "stream",
     "text": [
      "<class 'pandas.core.frame.DataFrame'>\n",
      "RangeIndex: 41188 entries, 0 to 41187\n",
      "Data columns (total 64 columns):\n",
      " #   Column                         Non-Null Count  Dtype  \n",
      "---  ------                         --------------  -----  \n",
      " 0   age                            41188 non-null  int64  \n",
      " 1   duration                       41188 non-null  int64  \n",
      " 2   campaign                       41188 non-null  int64  \n",
      " 3   pdays                          41188 non-null  int64  \n",
      " 4   previous                       41188 non-null  int64  \n",
      " 5   emp.var.rate                   41188 non-null  float64\n",
      " 6   cons.price.idx                 41188 non-null  float64\n",
      " 7   cons.conf.idx                  41188 non-null  float64\n",
      " 8   euribor3m                      41188 non-null  float64\n",
      " 9   nr.employed                    41188 non-null  float64\n",
      " 10  y                              41188 non-null  object \n",
      " 11  month_apr                      41188 non-null  int32  \n",
      " 12  month_aug                      41188 non-null  int32  \n",
      " 13  month_dec                      41188 non-null  int32  \n",
      " 14  month_jul                      41188 non-null  int32  \n",
      " 15  month_jun                      41188 non-null  int32  \n",
      " 16  month_mar                      41188 non-null  int32  \n",
      " 17  month_may                      41188 non-null  int32  \n",
      " 18  month_nov                      41188 non-null  int32  \n",
      " 19  month_oct                      41188 non-null  int32  \n",
      " 20  month_sep                      41188 non-null  int32  \n",
      " 21  day_of_week_fri                41188 non-null  int32  \n",
      " 22  day_of_week_mon                41188 non-null  int32  \n",
      " 23  day_of_week_thu                41188 non-null  int32  \n",
      " 24  day_of_week_tue                41188 non-null  int32  \n",
      " 25  day_of_week_wed                41188 non-null  int32  \n",
      " 26  poutcome_failure               41188 non-null  int32  \n",
      " 27  poutcome_nonexistent           41188 non-null  int32  \n",
      " 28  poutcome_success               41188 non-null  int32  \n",
      " 29  job_admin.                     41188 non-null  int32  \n",
      " 30  job_blue-collar                41188 non-null  int32  \n",
      " 31  job_entrepreneur               41188 non-null  int32  \n",
      " 32  job_housemaid                  41188 non-null  int32  \n",
      " 33  job_management                 41188 non-null  int32  \n",
      " 34  job_retired                    41188 non-null  int32  \n",
      " 35  job_self-employed              41188 non-null  int32  \n",
      " 36  job_services                   41188 non-null  int32  \n",
      " 37  job_student                    41188 non-null  int32  \n",
      " 38  job_technician                 41188 non-null  int32  \n",
      " 39  job_unemployed                 41188 non-null  int32  \n",
      " 40  job_unknown                    41188 non-null  int32  \n",
      " 41  marital_divorced               41188 non-null  int32  \n",
      " 42  marital_married                41188 non-null  int32  \n",
      " 43  marital_single                 41188 non-null  int32  \n",
      " 44  marital_unknown                41188 non-null  int32  \n",
      " 45  education_basic.4y             41188 non-null  int32  \n",
      " 46  education_basic.6y             41188 non-null  int32  \n",
      " 47  education_basic.9y             41188 non-null  int32  \n",
      " 48  education_high.school          41188 non-null  int32  \n",
      " 49  education_illiterate           41188 non-null  int32  \n",
      " 50  education_professional.course  41188 non-null  int32  \n",
      " 51  education_university.degree    41188 non-null  int32  \n",
      " 52  education_unknown              41188 non-null  int32  \n",
      " 53  default_no                     41188 non-null  int32  \n",
      " 54  default_unknown                41188 non-null  int32  \n",
      " 55  default_yes                    41188 non-null  int32  \n",
      " 56  housing_no                     41188 non-null  int32  \n",
      " 57  housing_unknown                41188 non-null  int32  \n",
      " 58  housing_yes                    41188 non-null  int32  \n",
      " 59  loan_no                        41188 non-null  int32  \n",
      " 60  loan_unknown                   41188 non-null  int32  \n",
      " 61  loan_yes                       41188 non-null  int32  \n",
      " 62  contact_cellular               41188 non-null  int32  \n",
      " 63  contact_telephone              41188 non-null  int32  \n",
      "dtypes: float64(5), int32(53), int64(5), object(1)\n",
      "memory usage: 11.8+ MB\n"
     ]
    }
   ],
   "source": [
    "dummies = pd.get_dummies(df[['month', 'day_of_week', 'poutcome', 'job', 'marital', 'education', 'default', 'housing', 'loan', 'contact']], dtype='int')\n",
    "df = df.join(dummies)\n",
    "df = df.drop(['month', 'day_of_week', 'poutcome', 'job', 'marital', 'education', 'default', 'housing', 'loan', 'contact'], axis=1)\n",
    "df.info()"
   ]
  },
  {
   "cell_type": "code",
   "execution_count": 11,
   "metadata": {},
   "outputs": [],
   "source": [
    "X = df.drop(['duration', 'y'], axis=1)\n",
    "y = df['y']"
   ]
  },
  {
   "cell_type": "markdown",
   "metadata": {},
   "source": [
    "### Problem 6: Train/Test Split\n",
    "\n",
    "With your data prepared, split it into a train and test set."
   ]
  },
  {
   "cell_type": "code",
   "execution_count": 12,
   "metadata": {},
   "outputs": [],
   "source": [
    "X_train, X_test, y_train, y_test = train_test_split(X, y, random_state = 42)"
   ]
  },
  {
   "cell_type": "markdown",
   "metadata": {},
   "source": [
    "### Problem 7: A Baseline Model\n",
    "\n",
    "Before we build our first model, we want to establish a baseline.  What is the baseline performance that our classifier should aim to beat?"
   ]
  },
  {
   "cell_type": "code",
   "execution_count": 13,
   "metadata": {},
   "outputs": [
    {
     "data": {
      "text/plain": [
       "y\n",
       "no     0.888026\n",
       "yes    0.111974\n",
       "Name: proportion, dtype: float64"
      ]
     },
     "execution_count": 13,
     "metadata": {},
     "output_type": "execute_result"
    }
   ],
   "source": [
    "y_test.value_counts(normalize = True)"
   ]
  },
  {
   "cell_type": "markdown",
   "metadata": {},
   "source": [
    "### Problem 8: A Simple Model\n",
    "\n",
    "Use Logistic Regression to build a basic model on your data.  "
   ]
  },
  {
   "cell_type": "code",
   "execution_count": 14,
   "metadata": {},
   "outputs": [
    {
     "name": "stdout",
     "output_type": "stream",
     "text": [
      "Logistic Regression Train Score: 0.9012009970541581\n",
      "Logistic Regression Test Score: 0.8990968243177625\n"
     ]
    }
   ],
   "source": [
    "lr = LogisticRegression(max_iter = 1000).fit(X_train, y_train)\n",
    "print(\"Logistic Regression Train Score:\", lr.score(X_train, y_train))\n",
    "print(\"Logistic Regression Test Score:\", lr.score(X_test, y_test))"
   ]
  },
  {
   "cell_type": "markdown",
   "metadata": {},
   "source": [
    "### Problem 9: Score the Model\n",
    "\n",
    "What is the accuracy of your model?"
   ]
  },
  {
   "cell_type": "code",
   "execution_count": 15,
   "metadata": {},
   "outputs": [
    {
     "data": {
      "text/plain": [
       "0.8990968243177625"
      ]
     },
     "execution_count": 15,
     "metadata": {},
     "output_type": "execute_result"
    }
   ],
   "source": [
    "acc_score = accuracy_score(y_test, lr.predict(X_test))\n",
    "acc_score"
   ]
  },
  {
   "cell_type": "markdown",
   "metadata": {},
   "source": [
    "### Problem 10: Model Comparisons\n",
    "\n",
    "Now, we aim to compare the performance of the Logistic Regression model to our KNN algorithm, Decision Tree, and SVM models.  Using the default settings for each of the models, fit and score each.  Also, be sure to compare the fit time of each of the models.  Present your findings in a `DataFrame` similar to that below:\n",
    "\n",
    "| Model | Train Time | Train Accuracy | Test Accuracy |\n",
    "| ----- | ---------- | -------------  | -----------   |\n",
    "|     |    |.     |.     |"
   ]
  },
  {
   "cell_type": "code",
   "execution_count": 16,
   "metadata": {},
   "outputs": [],
   "source": [
    "train_score = []\n",
    "test_score = []\n",
    "fit_time = []"
   ]
  },
  {
   "cell_type": "code",
   "execution_count": 17,
   "metadata": {},
   "outputs": [
    {
     "name": "stdout",
     "output_type": "stream",
     "text": [
      "Logistic Regression Train Score: 0.9012009970541581\n",
      "Logistic Regression Test Score: 0.8990968243177625\n",
      "Fit Time: 0.43991565704345703\n"
     ]
    }
   ],
   "source": [
    "#Logistic Regression Basic Model\n",
    "start_time = time.time()\n",
    "lr = LogisticRegression(max_iter = 1000).fit(X_train, y_train)\n",
    "print(\"Logistic Regression Train Score:\", lr.score(X_train, y_train))\n",
    "print(\"Logistic Regression Test Score:\", lr.score(X_test, y_test))\n",
    "end_time = time.time()\n",
    "elapsed_time = end_time - start_time\n",
    "print(\"Fit Time:\", elapsed_time)\n",
    "train_score.append(lr.score(X_train, y_train))\n",
    "test_score.append(lr.score(X_train, y_train))\n",
    "fit_time.append(elapsed_time)"
   ]
  },
  {
   "cell_type": "code",
   "execution_count": 18,
   "metadata": {},
   "outputs": [
    {
     "name": "stdout",
     "output_type": "stream",
     "text": [
      "KNN Train Score: 0.9143763555728206\n",
      "KNN Test Score: 0.8891910265125765\n",
      "Fit Time: 0.029843807220458984\n"
     ]
    }
   ],
   "source": [
    "#KNN Basic Model\n",
    "start_time = time.time()\n",
    "knn = KNeighborsClassifier().fit(X_train, y_train)\n",
    "end_time = time.time()\n",
    "elapsed_time = end_time - start_time\n",
    "print(\"KNN Train Score:\", knn.score(X_train, y_train))\n",
    "print(\"KNN Test Score:\",knn.score(X_test, y_test))\n",
    "print(\"Fit Time:\", elapsed_time)\n",
    "train_score.append(knn.score(X_train, y_train))\n",
    "test_score.append(knn.score(X_train, y_train))\n",
    "fit_time.append(elapsed_time)"
   ]
  },
  {
   "cell_type": "code",
   "execution_count": 19,
   "metadata": {},
   "outputs": [
    {
     "name": "stdout",
     "output_type": "stream",
     "text": [
      "Decision Tree Train Score: 0.9954355637564339\n",
      "Decision Tree Test Score: 0.8417014664465379\n",
      "Fit Time: 0.189436674118042\n"
     ]
    }
   ],
   "source": [
    "#Decision Tree Basic Model\n",
    "start_time = time.time()\n",
    "dt = DecisionTreeClassifier().fit(X_train, y_train)\n",
    "end_time = time.time()\n",
    "elapsed_time = end_time - start_time\n",
    "print(\"Decision Tree Train Score:\", dt.score(X_train, y_train))\n",
    "print(\"Decision Tree Test Score:\",dt.score(X_test, y_test))\n",
    "print(\"Fit Time:\", elapsed_time)\n",
    "train_score.append(dt.score(X_train, y_train))\n",
    "test_score.append(dt.score(X_train, y_train))\n",
    "fit_time.append(elapsed_time)"
   ]
  },
  {
   "cell_type": "code",
   "execution_count": 20,
   "metadata": {},
   "outputs": [
    {
     "name": "stdout",
     "output_type": "stream",
     "text": [
      "SVC Train Score: 0.8978343206759251\n",
      "SVC Test Score: 0.8965718170340876\n",
      "Fit Time: 6.7483954429626465\n"
     ]
    }
   ],
   "source": [
    "#SVM Basic Model\n",
    "start_time = time.time()\n",
    "svc = SVC().fit(X_train, y_train)\n",
    "end_time = time.time()\n",
    "elapsed_time = end_time - start_time\n",
    "print(\"SVC Train Score:\", svc.score(X_train, y_train))\n",
    "print(\"SVC Test Score:\",svc.score(X_test, y_test))\n",
    "print(\"Fit Time:\", elapsed_time)\n",
    "train_score.append(svc.score(X_train, y_train))\n",
    "test_score.append(svc.score(X_train, y_train))\n",
    "fit_time.append(elapsed_time)"
   ]
  },
  {
   "cell_type": "code",
   "execution_count": 21,
   "metadata": {},
   "outputs": [
    {
     "data": {
      "text/html": [
       "<div>\n",
       "<style scoped>\n",
       "    .dataframe tbody tr th:only-of-type {\n",
       "        vertical-align: middle;\n",
       "    }\n",
       "\n",
       "    .dataframe tbody tr th {\n",
       "        vertical-align: top;\n",
       "    }\n",
       "\n",
       "    .dataframe thead th {\n",
       "        text-align: right;\n",
       "    }\n",
       "</style>\n",
       "<table border=\"1\" class=\"dataframe\">\n",
       "  <thead>\n",
       "    <tr style=\"text-align: right;\">\n",
       "      <th></th>\n",
       "      <th>Train Time</th>\n",
       "      <th>Train Accuracy</th>\n",
       "      <th>Test Accuracy</th>\n",
       "    </tr>\n",
       "    <tr>\n",
       "      <th>Model</th>\n",
       "      <th></th>\n",
       "      <th></th>\n",
       "      <th></th>\n",
       "    </tr>\n",
       "  </thead>\n",
       "  <tbody>\n",
       "    <tr>\n",
       "      <th>Logistic Regression</th>\n",
       "      <td>0.439916</td>\n",
       "      <td>0.901201</td>\n",
       "      <td>0.901201</td>\n",
       "    </tr>\n",
       "    <tr>\n",
       "      <th>KNN</th>\n",
       "      <td>0.029844</td>\n",
       "      <td>0.914376</td>\n",
       "      <td>0.914376</td>\n",
       "    </tr>\n",
       "    <tr>\n",
       "      <th>Decision Tree</th>\n",
       "      <td>0.189437</td>\n",
       "      <td>0.995436</td>\n",
       "      <td>0.995436</td>\n",
       "    </tr>\n",
       "    <tr>\n",
       "      <th>SVM</th>\n",
       "      <td>6.748395</td>\n",
       "      <td>0.897834</td>\n",
       "      <td>0.897834</td>\n",
       "    </tr>\n",
       "  </tbody>\n",
       "</table>\n",
       "</div>"
      ],
      "text/plain": [
       "                     Train Time  Train Accuracy  Test Accuracy\n",
       "Model                                                         \n",
       "Logistic Regression    0.439916        0.901201       0.901201\n",
       "KNN                    0.029844        0.914376       0.914376\n",
       "Decision Tree          0.189437        0.995436       0.995436\n",
       "SVM                    6.748395        0.897834       0.897834"
      ]
     },
     "execution_count": 21,
     "metadata": {},
     "output_type": "execute_result"
    }
   ],
   "source": [
    "res_dict = {'Model': ['Logistic Regression', 'KNN', 'Decision Tree', 'SVM'],\n",
    "           'Train Time': fit_time,\n",
    "           'Train Accuracy': train_score,\n",
    "           'Test Accuracy': test_score,}\n",
    "results_df = pd.DataFrame(res_dict).set_index('Model')\n",
    "results_df"
   ]
  },
  {
   "cell_type": "markdown",
   "metadata": {},
   "source": [
    "### Problem 11: Improving the Model\n",
    "\n",
    "Now that we have some basic models on the board, we want to try to improve these.  Below, we list a few things to explore in this pursuit.\n",
    "\n",
    "- More feature engineering and exploration.  For example, should we keep the gender feature?  Why or why not?\n",
    "- Hyperparameter tuning and grid search.  All of our models have additional hyperparameters to tune and explore.  For example the number of neighbors in KNN or the maximum depth of a Decision Tree.  \n",
    "- Adjust your performance metric"
   ]
  },
  {
   "cell_type": "code",
   "execution_count": 22,
   "metadata": {},
   "outputs": [],
   "source": [
    "data = pd.read_csv('data/bank-additional-full.csv', sep = ';')\n",
    "df = pd.read_csv('data/bank-additional-full.csv', sep = ';')\n",
    "dummies = pd.get_dummies(data[['month', 'day_of_week', 'poutcome', 'job', 'marital', 'education', 'default', 'housing', 'loan', 'contact']], dtype='int')\n",
    "data = data.join(dummies)\n",
    "#drop the features that aren't necessary anymore\n",
    "data = data.drop(['month', 'day_of_week', 'poutcome', 'job', 'marital', 'education', 'default', 'housing', 'loan', 'contact'], axis=1)\n",
    "#obtain the features that will be used for training/testing\n",
    "data = data[['age', 'campaign', 'pdays', 'previous', 'emp.var.rate',\n",
    "       'cons.price.idx', 'cons.conf.idx', 'euribor3m', 'nr.employed',\n",
    "       'month_oct', 'day_of_week_fri', 'day_of_week_mon', 'day_of_week_thu',\n",
    "       'day_of_week_tue', 'day_of_week_wed', 'poutcome_failure',\n",
    "       'poutcome_success', 'job_admin.', 'job_blue-collar', 'job_management',\n",
    "       'job_retired', 'job_self-employed', 'job_services', 'job_technician',\n",
    "       'marital_divorced', 'marital_married', 'marital_single',\n",
    "       'education_basic.4y', 'education_basic.6y', 'education_basic.9y',\n",
    "       'education_high.school', 'education_professional.course',\n",
    "       'education_university.degree', 'default_no', 'default_unknown',\n",
    "       'housing_no', 'housing_yes', 'loan_no', 'loan_yes', 'contact_cellular',\n",
    "       'contact_telephone']]"
   ]
  },
  {
   "cell_type": "code",
   "execution_count": 23,
   "metadata": {},
   "outputs": [],
   "source": [
    "y = df['y']\n",
    "X_train, X_test, y_train, y_test = train_test_split(data, y, test_size = 0.2, random_state = 42)"
   ]
  },
  {
   "cell_type": "code",
   "execution_count": 24,
   "metadata": {},
   "outputs": [],
   "source": [
    "model_list = ['Logistic Regression', 'KNN', 'Decision Tree', 'SVM']\n",
    "train_score = []\n",
    "test_score = []\n",
    "fit_time = []"
   ]
  },
  {
   "cell_type": "code",
   "execution_count": 25,
   "metadata": {},
   "outputs": [
    {
     "name": "stdout",
     "output_type": "stream",
     "text": [
      "Logistic Regression Train Score: 0.9002427921092564\n",
      "Logistic Regression Test Score: 0.8964554503520272\n",
      "Fit Time: 0.6550543308258057\n"
     ]
    }
   ],
   "source": [
    "#Logistic Regression\n",
    "start_time = time.time()\n",
    "pipeline = Pipeline([('scale', StandardScaler()),\n",
    "                 ('lgr', LogisticRegression(multi_class='multinomial', max_iter=1000, \n",
    "                                            C = 0.1, penalty = 'l1', solver = 'saga'))]).fit(X_train, y_train)\n",
    "end_time = time.time()\n",
    "elapsed_time = end_time - start_time\n",
    "print(\"Logistic Regression Train Score:\", pipeline.score(X_train, y_train))\n",
    "print(\"Logistic Regression Test Score:\", pipeline.score(X_test, y_test))\n",
    "print(\"Fit Time:\", elapsed_time)\n",
    "train_score.append(pipeline.score(X_train, y_train))\n",
    "test_score.append(pipeline.score(X_train, y_train))\n",
    "fit_time.append(elapsed_time)"
   ]
  },
  {
   "cell_type": "code",
   "execution_count": 26,
   "metadata": {},
   "outputs": [
    {
     "name": "stdout",
     "output_type": "stream",
     "text": [
      "KNN Train Score: 0.9013050075872534\n",
      "KNN Test Score: 0.8945132313668366\n",
      "Fit Time: 0.04500150680541992\n"
     ]
    }
   ],
   "source": [
    "#KNN\n",
    "start_time = time.time()\n",
    "knn_pipe = Pipeline([('scale', StandardScaler()), \n",
    "                      ('model', KNeighborsClassifier(n_neighbors=19, leaf_size = 5, \n",
    "                                                     p = 2, weights = 'uniform'))]).fit(X_train, y_train)\n",
    "end_time = time.time()\n",
    "elapsed_time = end_time - start_time\n",
    "print(\"KNN Train Score:\", knn_pipe.score(X_train, y_train))\n",
    "print(\"KNN Test Score:\",knn_pipe.score(X_test, y_test))\n",
    "print(\"Fit Time:\", elapsed_time)\n",
    "train_score.append(knn_pipe.score(X_train, y_train))\n",
    "test_score.append(knn_pipe.score(X_train, y_train))\n",
    "fit_time.append(elapsed_time)"
   ]
  },
  {
   "cell_type": "code",
   "execution_count": 27,
   "metadata": {},
   "outputs": [
    {
     "name": "stdout",
     "output_type": "stream",
     "text": [
      "Decision Tree Train Score: 0.9052200303490137\n",
      "Decision Tree Test Score: 0.898154891964069\n",
      "Fit Time: 0.07657146453857422\n"
     ]
    }
   ],
   "source": [
    "#Decision Tree\n",
    "start_time = time.time()\n",
    "tree_depth = DecisionTreeClassifier(criterion = 'entropy', max_depth = 6, \n",
    "                                    min_samples_split = 5, min_samples_leaf = 1).fit(X_train, y_train)\n",
    "end_time = time.time()\n",
    "elapsed_time = end_time - start_time\n",
    "print(\"Decision Tree Train Score:\", tree_depth.score(X_train, y_train))\n",
    "print(\"Decision Tree Test Score:\", tree_depth.score(X_test, y_test))\n",
    "print(\"Fit Time:\", elapsed_time)\n",
    "train_score.append(tree_depth.score(X_train, y_train))\n",
    "test_score.append(tree_depth.score(X_train, y_train))\n",
    "fit_time.append(elapsed_time)"
   ]
  },
  {
   "cell_type": "code",
   "execution_count": 28,
   "metadata": {},
   "outputs": [
    {
     "name": "stdout",
     "output_type": "stream",
     "text": [
      "SVC Train Score: 0.8982094081942337\n",
      "SVC Test Score: 0.8947560087399854\n",
      "Fit Time: 5.536633014678955\n"
     ]
    }
   ],
   "source": [
    "#SVC\n",
    "start_time = time.time()\n",
    "svc = SVC(C = 0.1, kernel='poly', gamma = 'scale').fit(X_train, y_train)\n",
    "end_time = time.time()\n",
    "elapsed_time = end_time - start_time\n",
    "print(\"SVC Train Score:\", svc.score(X_train, y_train))\n",
    "print(\"SVC Test Score:\",svc.score(X_test, y_test))\n",
    "print(\"Fit Time:\", elapsed_time)\n",
    "train_score.append(svc.score(X_train, y_train))\n",
    "test_score.append(svc.score(X_train, y_train))\n",
    "fit_time.append(elapsed_time)"
   ]
  },
  {
   "cell_type": "code",
   "execution_count": 29,
   "metadata": {},
   "outputs": [
    {
     "data": {
      "text/html": [
       "<div>\n",
       "<style scoped>\n",
       "    .dataframe tbody tr th:only-of-type {\n",
       "        vertical-align: middle;\n",
       "    }\n",
       "\n",
       "    .dataframe tbody tr th {\n",
       "        vertical-align: top;\n",
       "    }\n",
       "\n",
       "    .dataframe thead th {\n",
       "        text-align: right;\n",
       "    }\n",
       "</style>\n",
       "<table border=\"1\" class=\"dataframe\">\n",
       "  <thead>\n",
       "    <tr style=\"text-align: right;\">\n",
       "      <th></th>\n",
       "      <th>Train Time</th>\n",
       "      <th>Train Accuracy</th>\n",
       "      <th>Test Accuracy</th>\n",
       "    </tr>\n",
       "    <tr>\n",
       "      <th>Model</th>\n",
       "      <th></th>\n",
       "      <th></th>\n",
       "      <th></th>\n",
       "    </tr>\n",
       "  </thead>\n",
       "  <tbody>\n",
       "    <tr>\n",
       "      <th>Logistic Regression</th>\n",
       "      <td>0.655054</td>\n",
       "      <td>0.900243</td>\n",
       "      <td>0.900243</td>\n",
       "    </tr>\n",
       "    <tr>\n",
       "      <th>KNN</th>\n",
       "      <td>0.045002</td>\n",
       "      <td>0.901305</td>\n",
       "      <td>0.901305</td>\n",
       "    </tr>\n",
       "    <tr>\n",
       "      <th>Decision Tree</th>\n",
       "      <td>0.076571</td>\n",
       "      <td>0.905220</td>\n",
       "      <td>0.905220</td>\n",
       "    </tr>\n",
       "    <tr>\n",
       "      <th>SVM</th>\n",
       "      <td>5.536633</td>\n",
       "      <td>0.898209</td>\n",
       "      <td>0.898209</td>\n",
       "    </tr>\n",
       "  </tbody>\n",
       "</table>\n",
       "</div>"
      ],
      "text/plain": [
       "                     Train Time  Train Accuracy  Test Accuracy\n",
       "Model                                                         \n",
       "Logistic Regression    0.655054        0.900243       0.900243\n",
       "KNN                    0.045002        0.901305       0.901305\n",
       "Decision Tree          0.076571        0.905220       0.905220\n",
       "SVM                    5.536633        0.898209       0.898209"
      ]
     },
     "execution_count": 29,
     "metadata": {},
     "output_type": "execute_result"
    }
   ],
   "source": [
    "res_dict = {'Model': model_list,\n",
    "           'Train Time': fit_time,\n",
    "           'Train Accuracy': train_score,\n",
    "           'Test Accuracy': test_score,}\n",
    "results_df = pd.DataFrame(res_dict).set_index('Model')\n",
    "results_df"
   ]
  },
  {
   "cell_type": "code",
   "execution_count": 30,
   "metadata": {},
   "outputs": [
    {
     "name": "stderr",
     "output_type": "stream",
     "text": [
      "C:\\Users\\Andrew Tseng\\anaconda3\\Lib\\site-packages\\seaborn\\_oldcore.py:1765: FutureWarning: unique with argument that is not not a Series, Index, ExtensionArray, or np.ndarray is deprecated and will raise in a future version.\n",
      "  order = pd.unique(vector)\n"
     ]
    },
    {
     "data": {
      "text/plain": [
       "Text(0, 0.5, 'Time (seconds)')"
      ]
     },
     "execution_count": 30,
     "metadata": {},
     "output_type": "execute_result"
    },
    {
     "data": {
      "image/png": "[encoded data removed]",
      "text/plain": [
       "<Figure size 640x480 with 1 Axes>"
      ]
     },
     "metadata": {},
     "output_type": "display_data"
    }
   ],
   "source": [
    "#display the comparison of fit time\n",
    "colors = sns.color_palette(\"Set2\", len(model_list))\n",
    "sns.barplot(x=model_list, y=fit_time, palette=colors)\n",
    "plt.title('Train Time Comparison')\n",
    "plt.xlabel('Model')\n",
    "plt.ylabel('Time (seconds)')"
   ]
  },
  {
   "cell_type": "code",
   "execution_count": 31,
   "metadata": {},
   "outputs": [
    {
     "name": "stderr",
     "output_type": "stream",
     "text": [
      "C:\\Users\\Andrew Tseng\\anaconda3\\Lib\\site-packages\\seaborn\\_oldcore.py:1765: FutureWarning: unique with argument that is not not a Series, Index, ExtensionArray, or np.ndarray is deprecated and will raise in a future version.\n",
      "  order = pd.unique(vector)\n"
     ]
    },
    {
     "data": {
      "text/plain": [
       "Text(0, 0.5, 'Score')"
      ]
     },
     "execution_count": 31,
     "metadata": {},
     "output_type": "execute_result"
    },
    {
     "data": {
      "image/png": "[encoded data removed]",
      "text/plain": [
       "<Figure size 640x480 with 1 Axes>"
      ]
     },
     "metadata": {},
     "output_type": "display_data"
    }
   ],
   "source": [
    "#display the differences in train score\n",
    "colors = sns.color_palette(\"Set2\", len(model_list))\n",
    "sns.barplot(x=model_list, y=train_score, palette=colors)\n",
    "plt.title('Train Score Comparison')\n",
    "plt.xlabel('Model')\n",
    "plt.ylabel('Score')"
   ]
  },
  {
   "cell_type": "code",
   "execution_count": 32,
   "metadata": {},
   "outputs": [
    {
     "name": "stderr",
     "output_type": "stream",
     "text": [
      "C:\\Users\\Andrew Tseng\\anaconda3\\Lib\\site-packages\\seaborn\\_oldcore.py:1765: FutureWarning: unique with argument that is not not a Series, Index, ExtensionArray, or np.ndarray is deprecated and will raise in a future version.\n",
      "  order = pd.unique(vector)\n"
     ]
    },
    {
     "data": {
      "text/plain": [
       "Text(0, 0.5, 'Score')"
      ]
     },
     "execution_count": 32,
     "metadata": {},
     "output_type": "execute_result"
    },
    {
     "data": {
      "image/png": "[encoded data removed]",
      "text/plain": [
       "<Figure size 640x480 with 1 Axes>"
      ]
     },
     "metadata": {},
     "output_type": "display_data"
    }
   ],
   "source": [
    "#display the differences in test score\n",
    "colors = sns.color_palette(\"Set2\", len(model_list))\n",
    "sns.barplot(x=model_list, y=test_score, palette=colors)\n",
    "plt.title('Test Score Comparison')\n",
    "plt.xlabel('Model')\n",
    "plt.ylabel('Score')"
   ]
  },
  {
   "cell_type": "code",
   "execution_count": 33,
   "metadata": {},
   "outputs": [],
   "source": [
    "#model = RandomForestClassifier()\n",
    "#rfecv = RFECV(estimator=model, step=1, cv=5, scoring='accuracy')\n",
    "#rfecv.fit(X_train, y_train)\n",
    "\n",
    "#optimal_num_features = rfecv.n_features_\n",
    "#print(f\"Optimal number of features: {optimal_num_features}\")\n",
    "\n",
    "#ranking = rfecv.ranking_\n",
    "\n",
    "#support = rfecv.support_\n",
    "\n",
    "#best_features = X_train.columns[support]\n",
    "#print(\"Best Features:\", best_features)"
   ]
  },
  {
   "cell_type": "code",
   "execution_count": 34,
   "metadata": {},
   "outputs": [],
   "source": [
    "#FEATURES TO USE FOR NUMERICAL DATASET (length of list = 41)\n",
    "#features_list = ['age', 'campaign', 'pdays', 'previous', 'emp.var.rate',\n",
    "#       'cons.price.idx', 'cons.conf.idx', 'euribor3m', 'nr.employed',\n",
    "#       'month_oct', 'day_of_week_fri', 'day_of_week_mon', 'day_of_week_thu',\n",
    "#       'day_of_week_tue', 'day_of_week_wed', 'poutcome_failure',\n",
    "#       'poutcome_success', 'job_admin.', 'job_blue-collar', 'job_management',\n",
    "#       'job_retired', 'job_self-employed', 'job_services', 'job_technician',\n",
    "#       'marital_divorced', 'marital_married', 'marital_single',\n",
    "#       'education_basic.4y', 'education_basic.6y', 'education_basic.9y',\n",
    "#       'education_high.school', 'education_professional.course',\n",
    "#       'education_university.degree', 'default_no', 'default_unknown',\n",
    "#       'housing_no', 'housing_yes', 'loan_no', 'loan_yes', 'contact_cellular',\n",
    "#       'contact_telephone']"
   ]
  },
  {
   "cell_type": "code",
   "execution_count": 35,
   "metadata": {},
   "outputs": [],
   "source": [
    "#DT Improved Model\n",
    "#criterion = 'entropy'\n",
    "#max depth = 6\n",
    "#min_samples_split = 5\n",
    "#min_samples_leaf = 1"
   ]
  },
  {
   "cell_type": "code",
   "execution_count": 36,
   "metadata": {},
   "outputs": [],
   "source": [
    "#KNN Improved Model\n",
    "#set number of neighbors = 19 -> KNeighborsClassifier(n_neighbors=19)\n",
    "#leaf size = 5\n",
    "#p = 2\n",
    "#weights = 'uniform'"
   ]
  },
  {
   "cell_type": "code",
   "execution_count": 37,
   "metadata": {},
   "outputs": [],
   "source": [
    "#Logistic Regresssion Improved Model\n",
    "#C = 0.1\n",
    "#penalty = 'l1'\n",
    "#solver = 'saga'"
   ]
  },
  {
   "cell_type": "markdown",
   "metadata": {},
   "source": [
    "##### Questions"
   ]
  }
 ],
 "metadata": {
  "kernelspec": {
   "display_name": "Python 3 (ipykernel)",
   "language": "python",
   "name": "python3"
  },
  "language_info": {
   "codemirror_mode": {
    "name": "ipython",
    "version": 3
   },
   "file_extension": ".py",
   "mimetype": "text/x-python",
   "name": "python",
   "nbconvert_exporter": "python",
   "pygments_lexer": "ipython3",
   "version": "3.11.7"
  },
  "widgets": {
   "application/vnd.jupyter.widget-state+json": {
    "state": {},
    "version_major": 2,
    "version_minor": 0
   }
  }
 },
 "nbformat": 4,
 "nbformat_minor": 4
}
